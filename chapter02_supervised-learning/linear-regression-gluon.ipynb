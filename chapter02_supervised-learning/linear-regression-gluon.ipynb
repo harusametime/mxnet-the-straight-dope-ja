{
  "cells": [
    {
      "cell_type": "markdown",
      "source": [
        "# ``gluon``を利用した線形回帰\n",
        "\n",
        "前のチュートリアルでは、``mx.ndarray``と``mxnet.autograd``を利用して、ニューラルネットワークをゼロから実装しました。同じモデルをより少ない労力でできることを示したいと思います。もう一度、以前と同じパッケージをインポートします。今回は、``mxnet.gluon``をリストに追加しています。\n",
        "\n",
        "<!-- \n",
        "Now that we've implemented a whole neural network from scratch, using nothing but ``mx.ndarray`` and ``mxnet.autograd``, let's see how we can make the same model while doing a lot less work. \n",
        "\nAgain, let's import some packages, this time adding ``mxnet.gluon`` to the list of dependencies. -->"
      ],
      "metadata": {}
    },
    {
      "cell_type": "code",
      "source": [
        "from __future__ import print_function\n",
        "import mxnet as mx\n",
        "from mxnet import nd, autograd, gluon"
      ],
      "outputs": [],
      "execution_count": 32,
      "metadata": {
        "collapsed": true
      }
    },
    {
      "cell_type": "markdown",
      "source": [
        "## Contextのセット\n",
        "\n",
        "大部分の計算がどこでなされるのかをgluonに伝えるために、今回もcontextを設定します。\n",
        "<!-- \n",
        "We'll also want to set a context to tell gluon where to do most of the computation. -->"
      ],
      "metadata": {}
    },
    {
      "cell_type": "code",
      "source": [
        "data_ctx = mx.cpu()\n",
        "model_ctx = mx.cpu()"
      ],
      "outputs": [],
      "execution_count": 33,
      "metadata": {
        "collapsed": true
      }
    },
    {
      "cell_type": "markdown",
      "source": [
        "## データセットの構築\n",
        "\n",
        "前回の線形回帰の問題と同じ合成データを利用します。\n",
        "\n",
        "<!-- \n",
        "Again we'll look at the problem of linear regression and stick with the same synthetic data.  -->"
      ],
      "metadata": {}
    },
    {
      "cell_type": "code",
      "source": [
        "num_inputs = 2\n",
        "num_outputs = 1\n",
        "num_examples = 10000\n",
        "\n",
        "def real_fn(X):\n",
        "    return 2 * X[:, 0] - 3.4 * X[:, 1] + 4.2\n",
        "    \n",
        "X = nd.random_normal(shape=(num_examples, num_inputs))\n",
        "noise = 0.01 * nd.random_normal(shape=(num_examples,))\n",
        "y = real_fn(X) + noise"
      ],
      "outputs": [],
      "execution_count": 34,
      "metadata": {
        "collapsed": true
      }
    },
    {
      "cell_type": "markdown",
      "source": [
        "## データイテレータのロード\n",
        "\n",
        "データのバッチを扱うために、前回と同様に``DataLoader``を使用します。\n",
        "<!-- \n",
        "We'll stick with the ``DataLoader`` for handling our data batching. -->"
      ],
      "metadata": {}
    },
    {
      "cell_type": "code",
      "source": [
        "batch_size = 4\n",
        "train_data = gluon.data.DataLoader(gluon.data.ArrayDataset(X, y),\n",
        "                                      batch_size=batch_size, shuffle=True)"
      ],
      "outputs": [],
      "execution_count": 35,
      "metadata": {
        "collapsed": true
      }
    },
    {
      "cell_type": "markdown",
      "source": [
        "## モデルの定義\n",
        "\n",
        "何かをゼロから実装するときは、それぞれパラメータを用意して、それらの組み合わせでモデルを構成する必要がありました。ゼロから作る方法を学ぶの非常に良いことですが、`gluon`を使えば、定義済みのレイヤーからネットワークを構成することができます。線形モデルであれば、適切なレイヤは`Dense`と呼ばれるレイヤになります。*Dense(密な)*レイヤと呼ばれるのは、すべての入力のノードが次のレイヤの全てのノードに接続されるからです。先ほどの線形回帰の場合、入力以外に1つのレイヤしかもたず、そのレイヤはたった1つのノードしかもたないので、Denseという表現は言い過ぎのように感じるかもしれません。しかし、以降の章では複数の出力をもつ典型的なネットワークを扱うので、複数ノードの複数レイヤについて考えることもできるでしょう。線形モデルはたった1つの`Dense`レイヤをもち、たった1行のコードでそれを利用することができます。\n",
        "<!-- \n",
        "When we implemented things from scratch, \n",
        "we had to individually allocate parameters \n",
        "and then compose them together as a model. \n",
        "While it's good to know how to do things from scratch, \n",
        "with `gluon`, we can just compose a network from predefined layers. \n",
        "For a linear model, the appropriate layer is called `Dense`. \n",
        "It's called a *dense* layer because every node in the input \n",
        "is connected to every node in the subsequent layer. \n",
        "That description seems excessive \n",
        "because we only have one (non-input) layer here, \n",
        "and that layer only contains one node!\n",
        "But in subsequent chapters we'll typically work \n",
        "with networks that have multiple outputs, \n",
        "so we might as well start thinking in terms of layers of nodes. \n",
        "Because a linear model consists of just a single `Dense` layer, we can instantiate it with one line. -->\n",
        "\n",
        "[前回のノートブック](linear-regression-scratch.ipynb)では、2次元の入力から1次元の出力を得ました。もっとも直接的な方法は、入力の数と出力の数を指定して``Dense``を呼び出すことです。\n",
        "<!-- \n",
        "As in [the previous notebook](linear-regression-scratch.ipynb), \n",
        "we have an input dimension of 2 and an output dimension of 1. \n",
        "the most direct way to instantiate a ``Dense`` layer with these dimensions\n",
        "is to specify the number of inputs and the number of outputs.  -->"
      ],
      "metadata": {}
    },
    {
      "cell_type": "code",
      "source": [
        "net = gluon.nn.Dense(1, in_units=2)"
      ],
      "outputs": [],
      "execution_count": 36,
      "metadata": {
        "collapsed": true
      }
    },
    {
      "cell_type": "markdown",
      "source": [
        "実装はこれだけです。これでニューラルネットワークを実装できました。前回のノートブックでゼロから作成したモデルと同様に、このモデルは重みの行列とバイアスのベクトルを持っています。\n",
        "\n",
        "<!-- That's it! We've already got a neural network. \n",
        "Like our hand-crafted model in the previous notebook, \n",
        "this model has a weight matrix and bias vector. -->"
      ],
      "metadata": {}
    },
    {
      "cell_type": "code",
      "source": [
        "print(net.weight)\n",
        "print(net.bias)"
      ],
      "outputs": [
        {
          "output_type": "execute_result",
          "execution_count": 37,
          "data": {
            "text/plain": [
              "Parameter dense4_weight (shape=(1, 2), dtype=None)\n",
              "Parameter dense4_bias (shape=(1,), dtype=None)\n"
            ]
          },
          "metadata": {}
        }
      ],
      "execution_count": 37,
      "metadata": {}
    },
    {
      "cell_type": "markdown",
      "source": [
        "ここの`net.weight`や`net.bias`は実はNDArraysではありません。これらは`Parameter`クラスのインスタンスになります。いくつかの事情で、NDArraysに直接アクセスするかわりに`Parameter`を利用します。例えば、値を初期化する際に、便利で抽象的な方法を提供しています。NDArraysとは異なり、Patameterは複数のcontextに同時に関連付けることが可能です。このことは、複数GPUを利用して分散学習を考え始めるときに、必要になってきます。 \n",
        "\n",
        "<!-- Here, `net.weight` and `net.bias` are not actually NDArrays.\n",
        "They are instances of the `Parameter` class.\n",
        "We use `Parameter` instead of directly accessing NDAarrays for several reasons. \n",
        "For example, they provide convenient abstractions for initializing values.\n",
        "Unlike NDArrays, Parameters can be associated with multiple contexts simultaneously.\n",
        "This will come in handy in future chapters when we start thinking about distributed learning across multiple GPUs. -->\n",
        "\n",
        "`gluon`では、すべてのニューラルネットワークはBlock (`gluon.Block`)の組み合わせでできています。Blockは入力を受け取り出力を生成するユニットにすぎません。ブロックは、私達が更新できるパラメータを含んでいます。ここでは、私達が考えるネットワークは1つのレイヤだけをもっているので、パラメータに直接アクセスすることは非常に簡単です。もし10以上のレイヤで構成されたネットワークであれば、それは大変なものになるかもしれません。ネットワークがどれだけ複雑であろうとも、`collect_params()`を呼ぶことによって、以下のように全てのパラメータを取得することができます。\n",
        "\n",
        "<!-- In `gluon`, all neural networks are made out of Blocks (`gluon.Block`).\n",
        "Blocks are just units that take inputs and generate outputs.\n",
        "Blocks also contain parameters that we can update. \n",
        "Here, our network consists of only one layer, \n",
        "so it's convenient to access our parameters directly. \n",
        "When our networks consist of 10s of layers, this won't be so fun.\n",
        "No matter how complex our network, \n",
        "we can grab all its parameters by calling `collect_params()` as follows: -->"
      ],
      "metadata": {}
    },
    {
      "cell_type": "code",
      "source": [
        "net.collect_params()"
      ],
      "outputs": [
        {
          "output_type": "execute_result",
          "execution_count": 38,
          "data": {
            "text/plain": [
              "dense4_ (\n",
              "  Parameter dense4_weight (shape=(1, 2), dtype=None)\n",
              "  Parameter dense4_bias (shape=(1,), dtype=None)\n",
              ")"
            ]
          },
          "metadata": {}
        }
      ],
      "execution_count": 38,
      "metadata": {}
    },
    {
      "cell_type": "markdown",
      "source": [
        "返ってきたobjectは`gluon.parameter.ParameterDict`です。これは、Parameter objectのグループを検索したり、加工したりするのに便利な抽象化されたものです。多くの場合、ニューラルネットワークのすべてのパラメータを取り出したくなると思います。\n",
        "\n",
        "<!-- The returned object is a `gluon.parameter.ParameterDict`. \n",
        "This is a convenient abstraction for retrieving and manipulating groups of Parameter objects.\n",
        "Most often, we'll want to retrieve all of the parameters in a neural network: -->"
      ],
      "metadata": {}
    },
    {
      "cell_type": "code",
      "source": [
        "type(net.collect_params())"
      ],
      "outputs": [
        {
          "output_type": "execute_result",
          "execution_count": 39,
          "data": {
            "text/plain": [
              "mxnet.gluon.parameter.ParameterDict"
            ]
          },
          "metadata": {}
        }
      ],
      "execution_count": 39,
      "metadata": {}
    },
    {
      "cell_type": "markdown",
      "source": [
        "## パラメータの初期化\n",
        "\n",
        "パラメータのデータやcontextにアクセスするためにはパラメータの初期化が必要です。初期化が終われば、出力を生成するためにニューラルネットワークにそのデータを入力することができるようになります。従って、初期化が済んでいない現時点では、まだ出力を生成することはできません。試しにモデルを実行する``net(nd.array([[0,1]]))``を呼び出してみると、以下のような、少し恐ろしいエラーメッセージに直面するでしょう。\n",
        "\n",
        "<!-- Once we initialize our Parameters, we can access their underlying data and context(s),\n",
        "and we can also feed data through the neural network to generate output.\n",
        "However, we can't get going just yet. \n",
        "If we try invoking your model by calling ``net(nd.array([[0,1]]))``, \n",
        "we'll confront the following hideous error message: -->\n",
        "\n",
        "```RuntimeError: Parameter dense1_weight has not been initialized...```\n",
        "\n",
        "これは、パラメータがどの*初期値*をもつべきかを、``gluon``に伝えていないからです。ParameterDictの``.initialize()``を呼び出すことでパラメータを初期化できます。初期化には2つの引数を用意する必要があります。\n",
        "\n",
        "* 1つ目はinitializerで、その多くは`mx.init`で動きます。\n",
        "* 2つ目はパラメータが動くcontextで`model_ctx`を渡します。多くの場合、GPUやGPUのリストになるでしょう。\n",
        "\n",
        "That's because we haven't yet told ``gluon`` what the *initial values* for our parameters should be!\n",
        "We initialize parameters by calling the `.initialize()` method of a ParameterDict. \n",
        "We'll need to pass in two arguments. \n",
        "\n",
        "* An initializer, many of which live in the `mx.init` module. \n",
        "* A context where the parameters should live. In this case we'll pass in the `model_ctx`. Most often this will either be a GPU or a list of GPUs. \n",
        "\n",
        "*MXNet* provides a variety of common initializers in ``mxnet.init``.\n",
        "To keep things consistent with the model we built by hand, \n",
        "we'll initialize each parameter by sampling from a standard normal distribution, \n",
        "using `mx.init.Normal(sigma=1.)`."
      ],
      "metadata": {}
    },
    {
      "cell_type": "code",
      "source": [
        "net.collect_params().initialize(mx.init.Normal(sigma=1.), ctx=model_ctx)"
      ],
      "outputs": [],
      "execution_count": 40,
      "metadata": {
        "collapsed": true
      }
    },
    {
      "cell_type": "markdown",
      "source": [
        "## Deferred Initialization\n",
        "\n",
        "When we call ``initialize``, ``gluon`` associates each parameter with an initializer.\n",
        "However, the *actual initialization* is deferred until we make a first forward pass. \n",
        "In other words, the parameters are only initialized when they're needed. \n",
        "If we try to call `net.weight.data()` we'll get the following error:\n",
        "\n",
        "``DeferredInitializationError: Parameter dense2_weight has not been initialized yet because initialization was deferred. Actual initialization happens during the first forward pass. Please pass one batch of data through the network before accessing Parameters.``\n",
        "\n",
        "Passing data through a `gluon` model is easy. \n",
        "We just sample a batch of the appropriate shape and call `net` \n",
        "just as if it were a function. \n",
        "This will invoke `net`'s `forward()` method."
      ],
      "metadata": {}
    },
    {
      "cell_type": "code",
      "source": [
        "example_data = nd.array([[4,7]])\n",
        "net(example_data)"
      ],
      "outputs": [
        {
          "output_type": "execute_result",
          "execution_count": 41,
          "data": {
            "text/plain": [
              "\n",
              "[[-1.33219385]]\n",
              "<NDArray 1x1 @cpu(0)>"
            ]
          },
          "metadata": {}
        }
      ],
      "execution_count": 41,
      "metadata": {}
    },
    {
      "cell_type": "markdown",
      "source": [
        "Now that `net` is initialized, we can access each of its parameters. "
      ],
      "metadata": {}
    },
    {
      "cell_type": "code",
      "source": [
        "print(net.weight.data())\n",
        "print(net.bias.data())"
      ],
      "outputs": [
        {
          "output_type": "stream",
          "name": "stdout",
          "text": [
            "\n",
            "[[-0.25217363 -0.04621419]]\n",
            "<NDArray 1x2 @cpu(0)>\n",
            "\n",
            "[ 0.]\n",
            "<NDArray 1 @cpu(0)>\n"
          ]
        }
      ],
      "execution_count": 42,
      "metadata": {}
    },
    {
      "cell_type": "markdown",
      "source": [
        "## Shape inference\n",
        "\n",
        "Recall that previously, we instantiated our network with `gluon.nn.Dense(1, in_units=2)`. \n",
        "One slick feature that we can take advantage of in ``gluon`` is shape inference on parameters. \n",
        "Because our parameters never come into action until we pass data through the network,\n",
        "we don't actually have to declare the input dimension (`in_units`). \n",
        "Let's try this again, but letting `gluon` do more of the work:"
      ],
      "metadata": {}
    },
    {
      "cell_type": "code",
      "source": [
        "net = gluon.nn.Dense(1)\n",
        "net.collect_params().initialize(mx.init.Normal(sigma=1.), ctx=model_ctx)"
      ],
      "outputs": [],
      "execution_count": 43,
      "metadata": {
        "collapsed": true
      }
    },
    {
      "cell_type": "markdown",
      "source": [
        "We'll elaborate on this and more of ``gluon``'s internal workings in subsequent chapters."
      ],
      "metadata": {}
    },
    {
      "cell_type": "markdown",
      "source": [
        "## Define loss\n",
        "\nInstead of writing our own loss function we're just going to access squared error by instantiating ``gluon.loss.L2Loss``. Just like layers, and whole networks, a loss in gluon is just a `Block`."
      ],
      "metadata": {}
    },
    {
      "cell_type": "code",
      "source": [
        "square_loss = gluon.loss.L2Loss()"
      ],
      "outputs": [],
      "execution_count": 44,
      "metadata": {
        "collapsed": true
      }
    },
    {
      "cell_type": "markdown",
      "source": [
        "## Optimizer\n",
        "Instead of writing stochastic gradient descent from scratch every time, we can instantiate a ``gluon.Trainer``, passing it a dictionary of parameters. Note that the ``SGD`` optimizer in ``gluon`` also has a few bells and whistles that you can turn on at will, including *momentum* and *clipping* (both are switched off by default). These modifications can help to converge faster and we'll discuss them later when we go over a variety of optimization algorithms in detail."
      ],
      "metadata": {}
    },
    {
      "cell_type": "code",
      "source": [
        "trainer = gluon.Trainer(net.collect_params(), 'sgd', {'learning_rate': 0.0001})"
      ],
      "outputs": [],
      "execution_count": 45,
      "metadata": {
        "collapsed": true
      }
    },
    {
      "cell_type": "markdown",
      "source": [
        "## Execute training loop\n",
        "\n",
        "You might have noticed that it was a bit more concise to express our model in ``gluon``. For example, we didn't have to individually allocate parameters, define our loss function, or implement stochastic gradient descent. The benefits of relying on ``gluon``'s abstractions will grow substantially once we start working with much more complex models. But once we have all the basic pieces in place, the training loop itself is quite similar to what we would do if implementing everything from scratch. \n",
        "\n",
        "To refresh your memory. For some number of ``epochs``, we'll make a complete pass over the dataset (``train_data``), grabbing one mini-batch of inputs and the corresponding ground-truth labels at a time. \n",
        "\n",
        "Then, for each batch, we'll go through the following ritual. So that this process becomes maximally ritualistic, we'll repeat it verbatim:\n",
        "\n",
        "* Generate predictions (``yhat``) and the loss (``loss``) by executing a forward pass through the network.\n",
        "* Calculate gradients by making a backwards pass through the network via ``loss.backward()``. \n",
        "* Update the model parameters by invoking our SGD optimizer (note that we need not tell ``trainer.step`` about which parameters but rather just the amount of data, since we already performed that in the initialization of ``trainer``).\n",
        "\n"
      ],
      "metadata": {}
    },
    {
      "cell_type": "code",
      "source": [
        "epochs = 10\n",
        "loss_sequence = []\n",
        "num_batches = num_examples / batch_size\n",
        "\n",
        "for e in range(epochs):\n",
        "    cumulative_loss = 0\n",
        "    # inner loop\n",
        "    for i, (data, label) in enumerate(train_data):\n",
        "        data = data.as_in_context(model_ctx)\n",
        "        label = label.as_in_context(model_ctx)\n",
        "        with autograd.record():\n",
        "            output = net(data)\n",
        "            loss = square_loss(output, label)\n",
        "        loss.backward()\n",
        "        trainer.step(batch_size)\n",
        "        cumulative_loss += nd.mean(loss).asscalar()\n",
        "    print(\"Epoch %s, loss: %s\" % (e, cumulative_loss / num_examples))\n",
        "    loss_sequence.append(cumulative_loss)\n"
      ],
      "outputs": [
        {
          "output_type": "stream",
          "name": "stdout",
          "text": [
            "Epoch 0, loss: 3.44980202263\n",
            "Epoch 1, loss: 2.10364257665\n",
            "Epoch 2, loss: 1.28279426137\n",
            "Epoch 3, loss: 0.782256319318\n",
            "Epoch 4, loss: 0.477034088909\n",
            "Epoch 5, loss: 0.290909814427\n",
            "Epoch 6, loss: 0.177411796283\n",
            "Epoch 7, loss: 0.108197494675\n",
            "Epoch 8, loss: 0.0659899789031\n",
            "Epoch 9, loss: 0.040249745576\n"
          ]
        }
      ],
      "execution_count": 46,
      "metadata": {}
    },
    {
      "cell_type": "markdown",
      "source": [
        "## Visualizing the learning curve\n",
        "Now let's check how quickly SGD learns the linear regression model by plotting the learning curve."
      ],
      "metadata": {}
    },
    {
      "cell_type": "code",
      "source": [
        "# plot the convergence of the estimated loss function \n",
        "%matplotlib inline\n",
        "\n",
        "import matplotlib\n",
        "import matplotlib.pyplot as plt\n",
        "\n",
        "plt.figure(num=None,figsize=(8, 6))\n",
        "plt.plot(loss_sequence)\n",
        "\n",
        "# Adding some bells and whistles to the plot\n",
        "plt.grid(True, which=\"both\")\n",
        "plt.xlabel('epoch',fontsize=14)\n",
        "plt.ylabel('average loss',fontsize=14)"
      ],
      "outputs": [
        {
          "output_type": "execute_result",
          "execution_count": 47,
          "data": {
            "text/plain": [
              "<matplotlib.text.Text at 0x7efc87a7f0f0>"
            ]
          },
          "metadata": {}
        },
        {
          "output_type": "display_data",
          "data": {
            "image/png": "[encoded data removed]",
            "text/plain": [
              "<matplotlib.figure.Figure at 0x7efc908d94a8>"
            ]
          },
          "metadata": {}
        }
      ],
      "execution_count": 47,
      "metadata": {}
    },
    {
      "cell_type": "markdown",
      "source": [
        "As we can see, the loss function converges quickly to the optimal solution."
      ],
      "metadata": {}
    },
    {
      "cell_type": "markdown",
      "source": [
        "## Getting the learned model parameters\n",
        "\n",
        "As an additional sanity check, since we generated the data from a Gaussian linear regression model, we want to make sure that the learner managed to recover the model parameters, which were set to weight $2,-3.4$ with an offset of $4.2$.\n",
        "    "
      ],
      "metadata": {}
    },
    {
      "cell_type": "code",
      "source": [
        "params = net.collect_params() # this returns a ParameterDict\n",
        "\n",
        "print('The type of \"params\" is a ',type(params))\n",
        "\n",
        "# A ParameterDict is a dictionary of Parameter class objects\n",
        "# therefore, here is how we can read off the parameters from it.\n",
        "\n",
        "for param in params.values():\n",
        "    print(param.name,param.data())"
      ],
      "outputs": [
        {
          "output_type": "stream",
          "name": "stdout",
          "text": [
            "The type of \"params\" is a  <class 'mxnet.gluon.parameter.ParameterDict'>\n",
            "dense5_weight \n",
            "[[ 1.7913872  -3.10427046]]\n",
            "<NDArray 1x2 @cpu(0)>\n",
            "dense5_bias \n",
            "[ 3.85259581]\n",
            "<NDArray 1 @cpu(0)>\n"
          ]
        }
      ],
      "execution_count": 48,
      "metadata": {}
    },
    {
      "cell_type": "markdown",
      "source": [
        "## Conclusion \n",
        "\nAs you can see, even for a simple example like linear regression, ``gluon`` can help you to write quick and clean code. Next, we'll repeat this exercise for multi-layer perceptrons, extending these lessons to deep neural networks and (comparatively) real datasets. "
      ],
      "metadata": {}
    },
    {
      "cell_type": "markdown",
      "source": [
        "## Next\n",
        "[Binary classification with logistic regression](../chapter02_supervised-learning/logistic-regression-gluon.ipynb)"
      ],
      "metadata": {}
    },
    {
      "cell_type": "markdown",
      "source": [
        "For whinges or inquiries, [open an issue on  GitHub.](https://github.com/zackchase/mxnet-the-straight-dope)"
      ],
      "metadata": {
        "collapsed": true
      }
    }
  ],
  "metadata": {
    "kernelspec": {
      "name": "python3",
      "language": "python",
      "display_name": "Python 3"
    },
    "language_info": {
      "name": "python",
      "version": "3.6.4",
      "mimetype": "text/x-python",
      "codemirror_mode": {
        "name": "ipython",
        "version": 3
      },
      "pygments_lexer": "ipython3",
      "nbconvert_exporter": "python",
      "file_extension": ".py"
    },
    "kernel_info": {
      "name": "python3"
    },
    "nteract": {
      "version": "0.12.3"
    }
  },
  "nbformat": 4,
  "nbformat_minor": 2
}