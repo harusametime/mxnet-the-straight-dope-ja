{
 "cells": [
  {
   "cell_type": "markdown",
   "metadata": {},
   "source": [
    "# Linear Dynamical Systems with MXNet\n",
    "\n",
    "In this notebook we will look at how to implement filtering in general linear dynamical systems (aka Kalman filtering) using MXNet.\n",
    "\n",
    "First, a short mathematical description of the problem. \n",
    "\n",
    "A general (Gaussian) linear dynamical system is specified by two equations. \n",
    "\n",
    "* The first, called the transition equation,\n",
    "\n",
    "$$h_{t} = Ah_{t-1} + \\epsilon_t \\quad \\quad \\quad \\epsilon_t \\sim \\mathcal{N}(0, \\Sigma_h)$$\n",
    "\n",
    "describes how the hidden (also called \"latent\") state $h_t \\in \\mathbb{R}^H$ evolves with time. In a LDS this involves applying a linear transformation $A \\in \\mathbb{R}^{H\\times H}$ to the previous hidden state $h_{t-1}$, followed by adding zero-mean Gaussian noise. \n",
    "\n",
    "* The second, the observation equation or emission model, \n",
    "\n",
    "$$v_{t} = Bh_t + \\nu_t \\quad \\quad \\quad \\nu_t \\sim \\mathcal{N}(0, \\Sigma_v)$$\n",
    "\n",
    "descibes how the latent state $h_t$ relates to the observations (\"visibles\") $v_t \\in \\mathbb{R}^D$. In particular, $v_t$ is a linear transformation of the hidden state, $Bh_t$, to which Gaussian noise is added.\n",
    "\n",
    "Finally, we need to specify the initial state, usually by placing a Gaussian prior on $h_0$, \n",
    "\n",
    "$$h_0 \\sim \\mathcal{N}(\\mu_0, \\Sigma_0)$$\n",
    "\n",
    "The LDS is thus fully specified by the system parameters \n",
    "$A \\in \\mathbb{R}^{H \\times H}$, $B \\in \\mathbb{R}^{D \\times H}$, $\\Sigma_h \\in \\mathcal{S}_{+}^H$, $\\Sigma_v \\in \\mathcal{S}_{+}^D$, $\\mu_0 \\in \\mathbb{R}^H$, $\\Sigma_0 \\in \\mathcal{S}_{+}^H$. $\\mathcal{S}_{+}$ denotes the space of positive definite (PD) matrices.\n",
    "\n",
    "Given such a LDS specification, and a sequence of observations $v_0, v_1, \\ldots, v_T$, one is typically interested in one of the following\n",
    "\n",
    "  1. (Log-)Likelihood computation, i.e. computing the probability of the data under the model, $P(v_0, v_1, \\ldots, v_T)$\n",
    "  2. Filtering, i.e. computing the mean and covariance of $P(h_t|v_0, v_1, \\ldots, v_t)$\n",
    "  3. Smoothing, i.e. computing the mean and covariance of $P(h_t|v_0, v_1, \\ldots, v_T)$\n",
    "  4. Parameter learning: find the system parameters that best describe the data, e.g. by maximizing likelihood\n",
    "  \n",
    "In this notebook we will focus on the filtering problem, and will also see how to compute the log-likelihood as a byproduct. For details on other problems, See e.g. [Barber, 2012](http://web4.cs.ucl.ac.uk/staff/D.Barber/textbook/020217.pdf), Chapter 24."
   ]
  },
  {
   "cell_type": "markdown",
   "metadata": {},
   "source": [
    "# Filtering\n",
    "We want to find the \"filtered\" distributions $p(h_t|v_{0:t})$ where $v_{0:t}$ denotes $\\{v_0, \\cdots, v_t\\}.$ Due to the closure properties of Gaussian distributions, each of these distributions is also Gaussian $p(h_t|v_{0:t}) = \\mathcal{N}(h_t|f_t, F_T)$. The filtering procedure proceeds sequentially, by expressing $f_t$ and $F_t$ in terms of $f_{t-1}$ and $F_{t-1}$. We initialize $f_0$ and $F_0$ to be 0.\n",
    "\n",
    "## Prerequisite\n",
    "\n",
    "To derive the formulas for filtering, here is all you need [see Bishop 2008, Appendix B] \n",
    "\n",
    "* Conditional Gaussian equations\n",
    "\n",
    "    $$\n",
    "    \\begin{split}\n",
    "    p(x) &= \\mathcal{N}(\\mu, \\Lambda^{-1})\\\\\n",
    "    p(y|x) &= \\mathcal{N}(y|Ax + b, L^{-1})\n",
    "    \\end{split}\n",
    "    $$\n",
    "    \n",
    "    The marginal distribution of $y$ and the conditional distribution of $x$ given $y$ are\n",
    "    \n",
    "    $$\n",
    "    \\begin{split}\n",
    "    p(y) &= \\mathcal{N}(y|A\\mu + b, L^{-1} + A\\Lambda^{-1}A^T) &\\quad \\text{(1)} \\\\\n",
    "    p(x|y) &= \\mathcal{N}(x|\\Sigma\\left[A^TL(y-b) + \\Lambda\\mu\\right], \\Sigma), &\\quad \\Sigma = (\\Lambda + A^TLA)^{-1}\\quad \\text{(2)}\n",
    "    \\end{split}\n",
    "    $$\n",
    "    \n",
    "    \n",
    "* Matrix Inversion Lemma (aka [Woodbury matrix identity](https://en.wikipedia.org/wiki/Woodbury_matrix_identity))\n",
    "\n",
    " $$ (A + BD^{-1}C)^{-1} = A^{-1} - A^{-1}B(D + CA^{-1}B)^{-1}CA^{-1}\\quad \\text{(3)}$$\n",
    "\n",
    "\n",
    "## Derivation\n",
    "\n",
    "Now we are ready to derive the filtering equations, by Bayes Theorem\n",
    "\n",
    "$$\n",
    "\\begin{split}\n",
    "p(h_t|v_{0:t}) &= p(h_t|v_t, v_{0:t-1}) \\\\\n",
    "&\\propto p(v_t|h_t, v_{0:t-1}) p(h_t|v_{0:t-1}) \\\\\n",
    "&= p(v_t|h_t) p(h_t|v_{0:t-1})\\quad \\text{by Markov property}\n",
    "\\end{split}\n",
    "$$\n",
    "\n",
    "The derivation boils down to caclulate the two terms on the right hand side (you can think that the first is $p(y|x)$ and the second is $p(x)$ as in the conditional Gaussian equations) and use (2) above to get the desired formula. \n",
    "\n",
    "The first term is directly given by the observation equation, i.e., $p(v_t|h_t) = \\mathcal{N}(Bh_t, \\Sigma_v)$, and the second term can be calculated as follows\n",
    "\n",
    "$$\n",
    "\\begin{split}\n",
    "p(h_t|v_{0:t-1}) &= \\int p(h_t|h_{t-1}, v_{0:t-1})p(h_{t-1}|v_{0:t-1}){\\rm{d}}h_{t-1}\\\\\n",
    "&= \\int p(h_t|h_{t-1})p(h_{t-1}|v_{0:t-1}){\\rm{d}}h_{t-1}\\quad \\text{by Markov property}\\\\\n",
    "&= \\int \\mathcal{N}(h_t|Ah_{t-1}, \\Sigma_h)\\mathcal{N}(h_{t-1}|f_{t-1}, F_{t-1}){\\rm{d}}h_{t-1}\\\\\n",
    "&= \\mathcal{N}(Af_{t-1}, AF_{t-1}A^T + \\Sigma_h)\\quad \\text{using the marginalization equation (1)}\\\\\n",
    "&= \\mathcal{N}(\\mu_f, \\Sigma_{hh})\\\\\n",
    "\\end{split}\n",
    "$$\n",
    "\n",
    "First, we calculate the covariance matrix $F_t$, \n",
    "\n",
    "$$\n",
    "F_t = \\left(\\Sigma_{hh}^{-1} - B^T\\Sigma_v^{-1}B\\right)^{-1} = \\Sigma_{hh} - \\Sigma_{hh}B^T(\\Sigma_v + B\\Sigma_{hh}B^T)^{-1}B\\Sigma_{hh} = (I - KB)\\Sigma_{hh}, \n",
    "$$\n",
    "\n",
    "where we have used the matrix inversion lemman and define the **Kalman gain matrix** as\n",
    "\n",
    "$$K = \\Sigma_{hh}B^T(\\Sigma_v + B\\Sigma_{hh}B^T)^{-1}.$$ \n",
    "\n",
    "Notice that for numerical stability, the covariance matrix is normally calculated using so-called \"Joseph's symmetrized update,\"\n",
    "\n",
    "$$F_t = (I - K_tB)\\Sigma_{hh}(I-K_tB)^T +  K_t\\Sigma_vK_t^T,$$\n",
    "\n",
    "which consists of summing two PD matrices.\n",
    "\n",
    "\n",
    "Finally, after some algebraic manipulation, we have the mean \n",
    "\n",
    "$$ f_t = \\mu_{h} + K(v - B\\mu_{h}).$$"
   ]
  },
  {
   "cell_type": "markdown",
   "metadata": {},
   "source": [
    "## LDS Foward Pass\n",
    "\n",
    "To summarize, the iterative algorithm proceeds as follows\n",
    "\n",
    "$$\\mu_h = Af_{t-1} \\quad \\quad \\quad \\mu_v = B\\mu_h$$\n",
    "\n",
    "$$\\Sigma_{hh} = AF_{t-1}A^T + \\Sigma_h \\quad \\quad \\quad \\Sigma_{vv} = B\\Sigma_{hh}B^T + \\Sigma_v$$\n",
    "\n",
    "$$K_t = \\Sigma_{hh}B^T\\Sigma_{vv}^{-1}$$\n",
    "\n",
    "$$f_t = \\mu_h + K(v-\\mu_v) \\quad \\quad \\quad F_t = (I - K_tB)\\Sigma_{hh}(I-K_tB)^T +  K_t\\Sigma_vK_t^T$$\n",
    "\n",
    "As we can see, each step in the recursive filtering procedure involves a few matrix-matrix and matrix-vector multiplications, as well as some matrix and vector additions and subtractions. These are standard operators available is most deep learning frameworks (including MXNet, where matrix multiplication is available through `mx.sym.dot()`).\n",
    "However, the update also involves the term $\\Sigma_{vv}^{-1}$, the inverse of a $D$-by-$D$ symmetric, postive semidefinite matrix (due to it being a covariance matrix). If the output dimensionality $D$ is 1, this is simply the scalar $1/\\Sigma_{vv}$, but in the general case we need to compute the inverse (or, preferably, solve the corresponding linear system directly). \n",
    "\n",
    "Luckily, operators for doing exactly that have recently been added to MXNet. In particular, we have\n",
    "\n",
    "  * `mx.nd.linalg_gemm2` (Matrix-matrix product, more flexible than `dot`)\n",
    "  * `mx.nd.linalg_potrf` (Cholesky decomposition $A = LL^T$ for symmetric, PD matrix $A$)\n",
    "  * `mx.nd.linalg_trsm` (solve system of equations involving triangular matrices)\n",
    "  * `mx.nd.linalg_sumlogdiag` (compute the sum of the log of the diagonal elements of a matrix)\n",
    "  * `mx.nd.linalg_potri` (compute $A^{-1}$ from a previously computed Cholesky factor $L$ of $A$ (i.e. $LL^T = A$).\n",
    "  \n",
    "## Computing the likelihood\n",
    "The terms $\\mu_v$ and $\\Sigma_{vv}$ computed during the filtering update correspond to the mean and covariance of the predictive distribution $P(v_{t}|v_0, v_1, \\ldots, v_{t-1})$, which allows us to compute the likelihood by decomposing it into telescoping conditional distributions, \n",
    "\n",
    "$$P(v_0, v_1, \\ldots, v_t) = P(v_0)P(v_1|v_0)P(v_2|v_0, v_1)\\cdots P(v_t|v_0, v_1, \\ldots, v_{t-1})$$\n",
    "\n",
    "and then using $P(v_t|v_0, v_1, \\ldots, v_{t-1}) = \\mathcal{N}(v_t|\\mu_v, \\Sigma_{vv})$ with parameters obtained during filtering to compute each term."
   ]
  },
  {
   "cell_type": "code",
   "execution_count": 1,
   "metadata": {
    "collapsed": true
   },
   "outputs": [],
   "source": [
    "import mxnet as mx\n",
    "\n",
    "from mxnet.ndarray import linalg_gemm as gemm\n",
    "from mxnet.ndarray import linalg_gemm2 as gemm2\n",
    "from mxnet.ndarray import linalg_potrf as potrf\n",
    "from mxnet.ndarray import linalg_trsm as trsm\n",
    "from mxnet.ndarray import linalg_sumlogdiag as sumlogdiag\n",
    "\n",
    "import mxnet.ndarray as nd"
   ]
  },
  {
   "cell_type": "code",
   "execution_count": 2,
   "metadata": {
    "collapsed": true
   },
   "outputs": [],
   "source": [
    "import numpy as np\n",
    "import matplotlib.pyplot as plt\n",
    "%matplotlib inline\n",
    "plt.rcParams[\"figure.figsize\"] = (10, 5)"
   ]
  },
  {
   "cell_type": "markdown",
   "metadata": {},
   "source": [
    "# Generating Synthetic Dataset\n",
    "\n",
    "This example is adapted from Example 24.3 in (Barber, 2017). The two-dimensional latent vector $h_t$ is rotated at each iteration and then is projected to produce a scalar observation. More precisely, we have\n",
    "\n",
    "$$\n",
    "h_{t+1} = Ah_{t} + \\epsilon_h, \\quad A = \\begin{pmatrix}\\cos\\theta & -\\sin\\theta\\\\\\sin\\theta & \\cos\\theta\\end{pmatrix}, \\epsilon_h \\sim \\mathcal{N}(0, \\alpha^2\\cdot\\mathbb{I}_2)\n",
    "$$\n",
    "\n",
    "$$\n",
    "v_{t+1} = [1, 0]\\cdot h_{t+1} + \\epsilon_v, \\quad , \\epsilon_v \\sim \\mathcal{N}(0, \\sigma^2).\n",
    "$$"
   ]
  },
  {
   "cell_type": "code",
   "execution_count": 3,
   "metadata": {
    "collapsed": true
   },
   "outputs": [],
   "source": [
    "alpha = 0.5\n",
    "sigma = 0.5\n",
    "theta = np.pi / 6\n",
    "T = 50"
   ]
  },
  {
   "cell_type": "code",
   "execution_count": 4,
   "metadata": {
    "collapsed": true
   },
   "outputs": [],
   "source": [
    "A = nd.array([[np.cos(theta), -np.sin(theta)],\n",
    "              [np.sin(theta), np.cos(theta)]])\n",
    "B = nd.array([[1, 0]])\n",
    "\n",
    "S_h = nd.array(np.square(alpha) * np.eye(2))\n",
    "S_v = nd.array(np.square(sigma) * np.eye(1))\n",
    "\n",
    "v = []\n",
    "# initial state h_0\n",
    "h = np.array([1, 0])\n",
    "for t in range(T):\n",
    "    # h_t = Bh_{t-1} + \\epsilon_h\n",
    "    h = np.random.multivariate_normal(A.asnumpy().dot(h), S_h.asnumpy())\n",
    "    \n",
    "    # v_t = Ah_t + \\epsilon_v\n",
    "    vv = np.random.normal(B.asnumpy().dot(h), S_v.asnumpy())\n",
    "    \n",
    "    v.append(vv)\n",
    "v = nd.array(np.array(v).reshape((T,1)))"
   ]
  },
  {
   "cell_type": "code",
   "execution_count": 5,
   "metadata": {},
   "outputs": [
    {
     "data": {
      "image/png": "[encoded data removed]",
      "text/plain": [
       "<matplotlib.figure.Figure at 0x107314d68>"
      ]
     },
     "metadata": {},
     "output_type": "display_data"
    }
   ],
   "source": [
    "plt.plot(v.asnumpy());"
   ]
  },
  {
   "cell_type": "markdown",
   "metadata": {},
   "source": [
    "## LDS Forward Function (Filtering)"
   ]
  },
  {
   "cell_type": "code",
   "execution_count": 6,
   "metadata": {
    "collapsed": true
   },
   "outputs": [],
   "source": [
    "def LDS_forward(v, A, B, S_h, S_v):\n",
    "    \n",
    "    H = A.shape[0] # dim of latent state\n",
    "    D = B.shape[0] # dim of observation\n",
    "    T = v.shape[0] # num of observations\n",
    "    \n",
    "    f_0 = nd.zeros((H,1))\n",
    "    F_0 = nd.zeros((H,H))\n",
    "    \n",
    "    eye_h = nd.array(np.eye(H))    \n",
    "    \n",
    "    F_t = None\n",
    "    f_t = None\n",
    "    F_seq = []\n",
    "    f_seq = []\n",
    "    log_p_seq = []\n",
    "\n",
    "    for t in range(T):\n",
    "\n",
    "        if t == 0:\n",
    "            # At the first time step, use the prior\n",
    "            mu_h = f_0\n",
    "            S_hh = F_0\n",
    "        else:\n",
    "            # Otherwise compute using update eqns.\n",
    "            mu_h = gemm2(A, f_t)\n",
    "            S_hh = gemm2(A, gemm2(F_t, A, transpose_b=1)) + S_h\n",
    "\n",
    "        # direct transcription of the update equations above\n",
    "        mu_v = gemm2(B, mu_h)\n",
    "        S_hh_x_B_t = gemm2(S_hh, B, transpose_b=1)\n",
    "        S_vv = gemm2(B, S_hh_x_B_t) + S_v\n",
    "        S_vh = gemm2(B, S_hh)\n",
    "\n",
    "        # use potrf to compute the Cholesky decomposition S_vv = LL^T\n",
    "        S_vv_chol = potrf(S_vv)\n",
    "\n",
    "        # K = S_hh X with X = B^T S_vv^{-1}\n",
    "        # We have X = B^T S_vv^{-1} => X S_vv = B^T => X LL^T = B^T\n",
    "        # We can thus obtain X by solving two linear systems involving L\n",
    "        K = trsm(S_vv_chol, trsm(S_vv_chol, S_hh_x_B_t, rightside=1, transpose=1), rightside=1)\n",
    "\n",
    "        delta = v[t] - mu_v\n",
    "        f_t = mu_h + gemm2(K, delta)\n",
    "\n",
    "        ImKB = eye_h - gemm2(K, B)\n",
    "        F_t = (gemm2(ImKB, gemm2(S_hh, ImKB, transpose_b=True)) \n",
    "                       + gemm2(K, gemm2(S_v, K, transpose_b=True), name=\"Ft\"))\n",
    "\n",
    "        # save filtered covariance and mean\n",
    "        F_seq.append(F_t)\n",
    "        f_seq.append(f_t)\n",
    "        \n",
    "        # compute the likelihood using mu_v and L (LL^T = S_vv)\n",
    "        Z = trsm(S_vv_chol, trsm(S_vv_chol, delta), transpose=1)\n",
    "        log_p = (-0.5 * (mx.nd.reshape(gemm2(delta, Z, transpose_a=True), shape=(0,), name=\"reshaped\") \n",
    "                         + D*np.log(2.0 * np.pi)) - sumlogdiag(S_vv_chol))\n",
    "        log_p_seq.append(log_p)\n",
    "        \n",
    "    \n",
    "    return f_seq, F_seq, log_p_seq"
   ]
  },
  {
   "cell_type": "code",
   "execution_count": 7,
   "metadata": {
    "collapsed": true
   },
   "outputs": [],
   "source": [
    "f_seq, F_seq, _ = LDS_forward(v, A, B, S_h, S_v)"
   ]
  },
  {
   "cell_type": "markdown",
   "metadata": {},
   "source": [
    "## Calculate the filtered mean and variance \n",
    "\n",
    "\n",
    "Given $p(h_t|v_{0:t})=\\mathcal{N}(\\mu_t, \\Sigma_t)$, we can compute the distribution of the reconstructed observations \n",
    "\n",
    "$$\n",
    "p(\\widehat{v_t}) = \\mathcal{N}(B\\mu_t, B\\Sigma_tB^T + \\sigma^2).\n",
    "$$"
   ]
  },
  {
   "cell_type": "code",
   "execution_count": 8,
   "metadata": {
    "collapsed": true
   },
   "outputs": [],
   "source": [
    "from functools import reduce\n",
    "B_np = B.asnumpy()\n",
    "h_states = reduce(lambda x, y: np.hstack((x,y)), [ff.asnumpy() for ff in f_seq])\n",
    "v_filtered_mean = B.asnumpy().dot(h_states).reshape((T,))"
   ]
  },
  {
   "cell_type": "code",
   "execution_count": 9,
   "metadata": {
    "collapsed": true
   },
   "outputs": [],
   "source": [
    "v_filtered_var = np.sqrt(\n",
    "    np.array([B_np.dot(ff.asnumpy()).dot(B_np.T) + np.square(sigma) for ff in F_seq]).reshape((T,)))"
   ]
  },
  {
   "cell_type": "code",
   "execution_count": 10,
   "metadata": {},
   "outputs": [
    {
     "data": {
      "image/png": "[encoded data removed]",
      "text/plain": [
       "<matplotlib.figure.Figure at 0x107683048>"
      ]
     },
     "metadata": {},
     "output_type": "display_data"
    }
   ],
   "source": [
    "plt.plot(v.asnumpy(), color=\"r\")\n",
    "plt.plot(v_filtered_mean, color=\"b\")\n",
    "x = np.arange(T)\n",
    "plt.fill_between(x, v_filtered_mean-v_filtered_var, \n",
    "                 v_filtered_mean+v_filtered_var, \n",
    "                 facecolor=\"blue\", alpha=0.2)\n",
    "plt.legend([\"data\", \"reconstruction\"]);"
   ]
  },
  {
   "cell_type": "markdown",
   "metadata": {},
   "source": [
    "In the next notebook, we will use Kalman filtering as a subroutine in more complex models. In particular, we will show how to do time series forecasting with innovative state space models (ISSMs). "
   ]
  }
 ],
 "metadata": {
  "kernelspec": {
   "display_name": "Python 3",
   "language": "python",
   "name": "python3"
  },
  "language_info": {
   "codemirror_mode": {
    "name": "ipython",
    "version": 3
   },
   "file_extension": ".py",
   "mimetype": "text/x-python",
   "name": "python",
   "nbconvert_exporter": "python",
   "pygments_lexer": "ipython3",
   "version": "3.6.2"
  }
 },
 "nbformat": 4,
 "nbformat_minor": 2
}
