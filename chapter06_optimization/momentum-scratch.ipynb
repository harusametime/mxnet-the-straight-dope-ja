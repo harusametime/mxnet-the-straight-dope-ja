{
 "cells": [
  {
   "cell_type": "markdown",
   "metadata": {},
   "source": [
    "# Momentum from scratch\n",
    "\n",
    "As discussed in the [previous chapter](./gd-sgd.ipynb), \n",
    "at each iteration stochastic gradient descent (SGD) finds the direction \n",
    "where the objective function can be reduced fastest on a given example. \n",
    "Thus, gradient descent is also known as the method of steepest descent. \n",
    "Essentially, SGD is a myopic algorithm. \n",
    "It doesn't look very far into the past and it doesn't think much about the future.\n",
    "At each step, SGD just does whatever looks right just at that moment. \n",
    "\n",
    "You might wonder, can we do something smarter? \n",
    "It turns out that we can. \n",
    "One class of methods use an idea called *momentum*.\n",
    "The idea of momentum-based optimizers is to \n",
    "remember the previous gradients from recent optimization steps\n",
    "and to use them to help to do a better job of choosing the direction to move next,\n",
    "acting less like a drunk student walking downhill and more like a rolling ball.In this chapter we'll motivate and explain SGD with momentum.\n"
   ]
  },
  {
   "cell_type": "markdown",
   "metadata": {},
   "source": [
    "### Motivating example\n",
    "\n",
    "In order to motivate the method, let's start by visualizing a simple quadratic objective function \n",
    "$f: \\mathbb{R}^2 \\rightarrow \\mathbb{R}$ taking a two-dimensional vector \n",
    "$\\mathbf{x} = [x_1, x_2]^\\top$ as the input. \n",
    "In the following figure, each contour line indicates points of equivalent value $f(\\mathbf{x})$. \n",
    "The objective function is minimized in the center and the outer rings have progressively worse values.\n",
    "\n",
    "The red triangle indicates the starting point for our stochastic gradient descent optimizer.\n",
    "The lines and arrows that follow indicate each step of SGD. \n",
    "You might wonder why the lines don't just point directly towards the center.\n",
    "That's because the gradient estimates in SGD are noisy, due to the small sample size. \n",
    "So the gradient steps are noisy even if they are correct on average (unbiased). \n",
    "As you can see, SGD wastes too much time swinging back and forth \n",
    "along the direction in parallel with the $x_2$-axis \n",
    "while advancing too slowly along the direction of the $x_1$-axis.\n",
    "\n",
    "![](../img/gd-move.png)"
   ]
  },
  {
   "cell_type": "markdown",
   "metadata": {},
   "source": [
    "### Curvature and Hessian matrix\n",
    "\n",
    "Even if we just did plain old gradient descent, we'd expect our function to bounce around quite a lot. \n",
    "That's because our gradient is changing as we move around in parameter space due to the curvature of the function.\n",
    "\n",
    "We can reason about the curvature of objective function by considering their second derivative. The second derivative says how much the gradient changes as we move in parameter space.\n",
    "In one dimension, a second derivative of a function \n",
    "indicates how fast the first derivative changes when the input changes. \n",
    "Thus, it is often considered as a measure of the **curvature** of a function. \n",
    "*It is the rate of change of the rate of change*. \n",
    "If you've never done calculus before, that might sound rather *meta*,\n",
    "but you'll get over it.\n",
    "\n",
    "Consider the objective function $f: \\mathbb{R}^d \\rightarrow \\mathbb{R}$ \n",
    "that takes a multi-dimensional vector $\\mathbf{x} = [x_1, x_2, \\ldots, x_d]^\\top$ as the input.\n",
    "Its **Hessian matrix** $\\mathbf{H} \\in \\mathbb{R}^{d \\times d}$ collects its second derivatives.\n",
    "Each entry $(i, j)$ says how much the gradient of the objective with respect to parameter $i$ changes,\n",
    "with a small change in parameter $j$.\n",
    "\n",
    "$$\\mathbf{H}_{i,j} = \\frac{\\partial^2 f(\\mathbf{x})}{\\partial x_i \\partial x_j}$$\n",
    "\n",
    "for all $i, j = 1, \\ldots, d$. Since $\\mathbf{H}$ is a real symmetric matrix, by spectral theorem, it is orthogonally diagonalizable as\n",
    "\n",
    "$$ \\mathbf{S}^\\top \\mathbf{H} \\mathbf{S} =  \\mathbf{\\Lambda},$$\n",
    "\n",
    "where $\\mathbf{S}$ is an orthonormal eigenbasis composed of eigenvectors of $\\mathbf{H}$ with corresponding eigenvalues in a diagonal matrix $\\mathbf{\\Lambda}$: the eigenvalue $\\mathbf{\\Lambda}_{i, i}$ corresponds to the eigenvector in the $i^{\\text{th}}$ column of $\\mathbf{S}$. The second derivative (curvature) of the objective function $f$ in any direction $\\mathbf{d}$ (unit vector) is a quadratic form $\\mathbf{d}^\\top \\mathbf{H} \\mathbf{d}$. Specifically, if the direction $\\mathbf{d}$ is an eigenvector of $\\mathbf{H}$, the curvature of $f$ in that direction is equal to the corresponding eigenvalue of $\\mathbf{d}$. Since the curvature of the objective function in any direction is a weighted average of all the eigenvalues of the Hessian matrix, the curvature is bounded by the minimum and maximum eigenvalues of the Hessian matrix $\\mathbf{H}$. The ratio of the maximum to the minimum eigenvalue is the **condition number** of the Hessian matrix $\\mathbf{H}$. "
   ]
  },
  {
   "cell_type": "markdown",
   "metadata": {},
   "source": [
    "### Gradient descent in ill-conditioned problems\n",
    "\n",
    "How does the condition number of the Hessian matrix of the objective function affect the performance of gradient descent? Let us revisit the problem in the motivating example. "
   ]
  },
  {
   "cell_type": "markdown",
   "metadata": {},
   "source": [
    "Recall that gradient descent is a greedy approach that selects the steepest gradient at the current point as the  direction of advancement. At the starting point, the search by gradient descent advances more aggressively in the direction of the $x_2$-axis than that of the $x_1$-axis. \n",
    "\n",
    "In the plotted problem of the motivating example, the curvature in the direction of the $x_2$-axis is much larger than that of the $x_1$-axis. Thus, gradient descent tends to overshoot the bottom of the function that is projected to the plane in parallel with the $x_2$-axis. At the next iteration, if the gradient along the direction in parallel with the $x_2$-axis remains larger, the search continues to advance more aggressively along the direction in parallel with the $x_2$-axis and the overshooting continues to take place. As a result, gradient descent wastes too much time swinging back and forth in parallel with the $x_2$-axis due to overshooting while the advancement in the direction of the $x_1$-axis is too slow.\n",
    "\n",
    "To generalize, the problem in the motivating example is an ill-conditioned problem. In an ill-conditioned problem, the condition number of the Hessian matrix of the objective function is large. In other words, the ratio of the largest curvature to the smallest is high."
   ]
  },
  {
   "cell_type": "markdown",
   "metadata": {},
   "source": [
    "## The momentum algorithm\n",
    "\n",
    "The aforementioned ill-conditioned problems are challenging for gradient descent. By treating gradient descent as a special form of stochastic gradient descent, we can address the challenge with the following momentum algorithm for stochastic gradient descent.\n",
    "\n",
    "$$\n",
    "\\begin{align*}\n",
    "\\mathbf{v} &:= \\gamma \\mathbf{v} + \\eta \\nabla f_\\mathcal{B}(\\mathbf{x}),\\\\\n",
    "\\mathbf{x} &:= \\mathbf{x} - \\mathbf{v},\n",
    "\\end{align*}\n",
    "$$\n",
    "\n",
    "where $\\mathbf{v}$ is the current velocity and $\\gamma$ is the momentum parameter. The learning rate $\\eta$ and the stochastic gradient $\\nabla f_\\mathcal{B}(\\mathbf{x})$ with respect to the sampled mini-batch $\\mathcal{B}$ are both defined in the [previous chapter](./gd-sgd.ipynb).\n",
    "\n",
    "It is important to highlight that, the scale of advancement at each iteration now also depends on how aligned the directions of the past gradients are. This scale is the largest when all the past gradients are perfectly aligned to the same direction. \n",
    "\n",
    "To better understand the momentum parameter $\\gamma$, let us simplify the scenario by assuming the stochastic gradients $\\nabla f_\\mathcal{B}(\\mathbf{x})$ are the same as $\\mathbf{g}$ throughout the iterations. Since all the gradients are perfectly aligned to the same direction, the momentum algorithm accelerates the advancement along the same direction of $\\mathbf{g}$ as\n",
    "\n",
    "$$\n",
    "\\begin{align*}\n",
    "\\mathbf{v}_1 &:= \\eta\\mathbf{g},\\\\\n",
    "\\mathbf{v}_2 &:= \\gamma \\mathbf{v}_1 + \\eta\\mathbf{g} = \\eta\\mathbf{g} (\\gamma + 1),\\\\\n",
    "\\mathbf{v}_3 &:= \\gamma \\mathbf{v}_2 + \\eta\\mathbf{g} = \\eta\\mathbf{g} (\\gamma^2 + \\gamma + 1),\\\\\n",
    "&\\ldots\\\\\n",
    "\\mathbf{v}_\\inf &:= \\frac{\\eta\\mathbf{g}}{1 - \\gamma}.\n",
    "\\end{align*}\n",
    "$$\n",
    "\n",
    "Thus, if $\\gamma = 0.99$, the final velocity is 100 times faster than that of the corresponding gradient descent where the gradient is $\\mathbf{g}$. \n",
    "\n",
    "Now with the momentum algorithm, a sample search path can be improved as illustrated in the following figure.\n",
    "\n",
    "![](../img/momentum-move.png)"
   ]
  },
  {
   "cell_type": "markdown",
   "metadata": {},
   "source": [
    "## Experiments\n",
    "\n",
    "For demonstrating the momentum algorithm, we still use the regression problem in the [linear regression chapter](../chapter02_supervised-learning/linear-regression-scratch.ipynb) as a case study. Specifically, we investigate stochastic gradient descent with momentum.\n"
   ]
  },
  {
   "cell_type": "code",
   "execution_count": 1,
   "metadata": {
    "ExecuteTime": {
     "end_time": "2017-10-22T11:36:05.650884Z",
     "start_time": "2017-10-22T11:36:05.637683Z"
    }
   },
   "outputs": [],
   "source": [
    "\n",
    "def sgd_momentum(params, vs, lr, mom, batch_size):\n",
    "    for param, v in zip(params, vs):\n",
    "        v[:] = mom * v + lr * param.grad / batch_size\n",
    "        param[:] = param - v"
   ]
  },
  {
   "cell_type": "code",
   "execution_count": 2,
   "metadata": {
    "ExecuteTime": {
     "end_time": "2017-10-22T11:36:06.372941Z",
     "start_time": "2017-10-22T11:36:05.655231Z"
    }
   },
   "outputs": [],
   "source": [
    "import mxnet as mx\n",
    "from mxnet import autograd\n",
    "from mxnet import ndarray as nd\n",
    "from mxnet import gluon\n",
    "import random\n",
    "\n",
    "mx.random.seed(1)\n",
    "random.seed(1)\n",
    "\n",
    "# Generate data.\n",
    "num_inputs = 2\n",
    "num_examples = 1000\n",
    "true_w = [2, -3.4]\n",
    "true_b = 4.2\n",
    "X = nd.random_normal(scale=1, shape=(num_examples, num_inputs))\n",
    "y = true_w[0] * X[:, 0] + true_w[1] * X[:, 1] + true_b\n",
    "y += .01 * nd.random_normal(scale=1, shape=y.shape)\n",
    "dataset = gluon.data.ArrayDataset(X, y)\n",
    "\n",
    "\n",
    "# Construct data iterator.\n",
    "def data_iter(batch_size):\n",
    "    idx = list(range(num_examples))\n",
    "    random.shuffle(idx)\n",
    "    for batch_i, i in enumerate(range(0, num_examples, batch_size)):\n",
    "        j = nd.array(idx[i: min(i + batch_size, num_examples)])\n",
    "        yield batch_i, X.take(j), y.take(j)\n",
    "\n",
    "# Initialize model parameters.\n",
    "def init_params():\n",
    "    w = nd.random_normal(scale=1, shape=(num_inputs, 1))\n",
    "    b = nd.zeros(shape=(1,))\n",
    "    params = [w, b]\n",
    "    vs = []\n",
    "    for param in params:\n",
    "        param.attach_grad()\n",
    "        # \n",
    "        vs.append(param.zeros_like())\n",
    "    return params, vs\n",
    "\n",
    "# Linear regression.\n",
    "def net(X, w, b):\n",
    "    return nd.dot(X, w) + b\n",
    "\n",
    "# Loss function.\n",
    "def square_loss(yhat, y):\n",
    "    return (yhat - y.reshape(yhat.shape)) ** 2 / 2"
   ]
  },
  {
   "cell_type": "code",
   "execution_count": 3,
   "metadata": {
    "ExecuteTime": {
     "end_time": "2017-10-22T11:36:06.602619Z",
     "start_time": "2017-10-22T11:36:06.374712Z"
    }
   },
   "outputs": [],
   "source": [
    "%matplotlib inline\n",
    "import matplotlib as mpl\n",
    "mpl.rcParams['figure.dpi']= 120\n",
    "import matplotlib.pyplot as plt\n",
    "import numpy as np\n",
    "\n",
    "def train(batch_size, lr, mom, epochs, period):\n",
    "    assert period >= batch_size and period % batch_size == 0\n",
    "    [w, b], vs = init_params()\n",
    "    total_loss = [np.mean(square_loss(net(X, w, b), y).asnumpy())]\n",
    "\n",
    "    # Epoch starts from 1.\n",
    "    for epoch in range(1, epochs + 1):\n",
    "        # Decay learning rate.\n",
    "        if epoch > 2:\n",
    "            lr *= 0.1\n",
    "        for batch_i, data, label in data_iter(batch_size):\n",
    "            with autograd.record():\n",
    "                output = net(data, w, b)\n",
    "                loss = square_loss(output, label)\n",
    "            loss.backward()\n",
    "            sgd_momentum([w, b], vs, lr, mom, batch_size)\n",
    "            if batch_i * batch_size % period == 0:\n",
    "                total_loss.append(np.mean(square_loss(net(X, w, b), y).asnumpy()))\n",
    "        print(\"Batch size %d, Learning rate %f, Epoch %d, loss %.4e\" % \n",
    "              (batch_size, lr, epoch, total_loss[-1]))\n",
    "    print('w:', np.reshape(w.asnumpy(), (1, -1)), \n",
    "          'b:', b.asnumpy()[0], '\\n')\n",
    "    x_axis = np.linspace(0, epochs, len(total_loss), endpoint=True)\n",
    "    plt.semilogy(x_axis, total_loss)\n",
    "    plt.xlabel('epoch')\n",
    "    plt.ylabel('loss')\n",
    "    plt.show()"
   ]
  },
  {
   "cell_type": "code",
   "execution_count": 4,
   "metadata": {
    "ExecuteTime": {
     "end_time": "2017-10-22T11:36:07.752280Z",
     "start_time": "2017-10-22T11:36:06.604411Z"
    }
   },
   "outputs": [
    {
     "name": "stdout",
     "output_type": "stream",
     "text": [
      "Batch size 10, Learning rate 0.200000, Epoch 1, loss 3.4819e-04\n",
      "Batch size 10, Learning rate 0.200000, Epoch 2, loss 6.6014e-05\n",
      "Batch size 10, Learning rate 0.020000, Epoch 3, loss 5.0524e-05\n",
      "w: [[ 1.99991071 -3.39920688]] b: 4.19865 \n",
      "\n"
     ]
    },
    {
     "data": {
      "image/png": "[encoded data removed]",
      "text/plain": [
       "<matplotlib.figure.Figure at 0x107d6e160>"
      ]
     },
     "metadata": {},
     "output_type": "display_data"
    }
   ],
   "source": [
    "train(batch_size=10, lr=0.2, mom=0.9, epochs=3, period=10)"
   ]
  },
  {
   "cell_type": "markdown",
   "metadata": {},
   "source": [
    "## Next\n",
    "[Momentum with Gluon](../chapter06_optimization/momentum-gluon.ipynb)"
   ]
  },
  {
   "cell_type": "markdown",
   "metadata": {},
   "source": [
    "For whinges or inquiries, [open an issue on  GitHub.](https://github.com/zackchase/mxnet-the-straight-dope)"
   ]
  }
 ],
 "metadata": {
  "kernelspec": {
   "display_name": "Python 3",
   "language": "python",
   "name": "python3"
  },
  "language_info": {
   "codemirror_mode": {
    "name": "ipython",
    "version": 3
   },
   "file_extension": ".py",
   "mimetype": "text/x-python",
   "name": "python",
   "nbconvert_exporter": "python",
   "pygments_lexer": "ipython3",
   "version": "3.6.1"
  }
 },
 "nbformat": 4,
 "nbformat_minor": 2
}
