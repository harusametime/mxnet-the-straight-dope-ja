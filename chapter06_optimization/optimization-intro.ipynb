{
 "cells": [
  {
   "cell_type": "markdown",
   "metadata": {},
   "source": [
    "# Introduction\n",
    "\n",
    "You might find it weird that we're sticking a chapter on optimization here.\n",
    "If you're following the tutorials in sequence,\n",
    "then you've probably already been optimizing over the parameters \n",
    "of ten or more machine learning models.\n",
    "You might consider yourself an old pro.\n",
    "In this chapter we'll supply some depth to complement your experience.\n",
    "\n",
    "We need to think seriously about optimization matters for several reasons.\n",
    "First, we want optimizers to be fast.\n",
    "Optimizing complicated models with millions of parameters can take upsettingly long.\n",
    "You might have heard of researchers training deep learning models\n",
    "for many hours, days, or even weeks. \n",
    "They probably weren't exaggerating. \n",
    "Second, optimization is how we choose our parameters.\n",
    "So the performance (e.g. accuracy) of our models\n",
    "depends entirely on the quality of the optimizer.\n",
    "\n",
    "\n",
    "![](../img/training_model.png)\n",
    "\n",
    "<!--\n",
    "\n",
    "\n",
    "## Why optimization matters\n",
    "\n",
    "Indeed, model training is often considered as the most challenging stage for a deep learning task. Essentially, for most machine learning models, the goal of training is to find values of model parameters that minimize a pre-defined loss function. \n",
    "\n",
    "Consider the task of classifying an image as either a cat or a dog. Suppose that the training data set consists of images labeled as cats and dogs. With extracted features such as pixel information representing each image, a deep learning model transforms such input features into the likelihoods of being a cat and a dog. Such transformations are essentially linear and nonlinear functions of both input features and model parameters. Note that the input features are given, while the model parameter values are unknown beforehand and shall be obtained after model training.\n",
    "\n",
    "We can train this model with maximum likelihood estimation. The idea is to maximize the joint likelihood of observing all the labeled cats and dogs in the training data set as transformations from the input image features and model parameters. Equivalently, we can define the loss function as the negative log likelihood of the observations in the training data set. We want to find the optimal values of the model parameters that minimize the loss function. To achieve this goal, we rely on optimization algorithms to find such model parameter values. Thus, it is fair to say that optimization plays a key role in training a deep learning model. \n",
    "-->"
   ]
  },
  {
   "cell_type": "markdown",
   "metadata": {},
   "source": [
    "## Challenges in optimization\n",
    "\n",
    "The pre-defined loss function in the learning problem is called the objective function for optimization. Conventionally, optimization considers a minimization problem.\n",
    "Any maximization problem can be trivially converted to an equivalent minimization problem\n",
    "by flipping the sign fo the objective function. \n",
    "Optimization is worth studying both because it's essential to learning.\n",
    "It's also worth studying because it's an area where progress is being made,\n",
    "and smart choices can lead to superior performance. \n",
    "In other words, even fixing all the other modeling decisions,\n",
    "figuring out how to optimize the parameters is a formidable challenge. \n",
    "We'll briefly describe some of the issues that make optimization hard, especially for neural networks.\n",
    "\n",
    "## Local minima\n",
    "\n",
    "An objective function $f(x)$ may have a local minimum $x$, where $f(x)$ is smaller at $x$ than at the neighboring points of $x$. If $f(x)$ is the smallest value that can be obtained in the entire domain of $x$, $f(x)$ is a global mininum.\n",
    "The following figure demonstrates examples of local and global minima for the function: \n",
    "$$f(x) = x \\cdot \\text{cos}(\\pi x), \\qquad -1.0 \\leq x \\leq 2.0.$$\n"
   ]
  },
  {
   "cell_type": "code",
   "execution_count": 1,
   "metadata": {},
   "outputs": [
    {
     "data": {
      "image/png": "[encoded data removed]",
      "text/plain": [
       "<matplotlib.figure.Figure at 0x105567668>"
      ]
     },
     "metadata": {},
     "output_type": "display_data"
    }
   ],
   "source": [
    "%matplotlib inline\n",
    "import numpy as np\n",
    "import matplotlib.pyplot as plt\n",
    "\n",
    "def f(x):\n",
    "    return x * np.cos(np.pi * x)\n",
    "\n",
    "x = np.arange(-1.0, 2.0, 0.1)\n",
    "fig = plt.figure()\n",
    "subplt = fig.add_subplot(111)\n",
    "subplt.annotate('local minimum', xy=(-0.3, -0.2), xytext=(-0.8, -1.0),\n",
    "            arrowprops=dict(facecolor='black', shrink=0.05))\n",
    "subplt.annotate('global minimum', xy=(1.1, -0.9), xytext=(0.7, 0.1),\n",
    "            arrowprops=dict(facecolor='black', shrink=0.05))\n",
    "plt.plot(x, f(x))\n",
    "plt.show()"
   ]
  },
  {
   "cell_type": "markdown",
   "metadata": {},
   "source": [
    "## Analytic vs approximate solutions\n",
    "\n",
    "Ideally, we'd find the optimal solution $x^*$ that globally minimizes an objective function. \n",
    "For instance, the function $f(x) = x^2$ \n",
    "has a global minimum solution at $x^* = 0$. \n",
    "We can obtain this solution analytically.\n",
    "Another way of saying this is that there exists a *closed-form* solution.\n",
    "This just means that we can analyze the equation for the function \n",
    "and produce an exact solution directly. \n",
    "Linear regression, for example, has an analytic solution.\n",
    "To refresh your memory, in linear regression we build a predictor of the form:\n",
    "$$\\mathbf{\\hat{y}} = X \\mathbf{w}$$\n",
    "\n",
    "We ignored the intercept term $b$ here, but that can be handled by simply appending a column of all 1s\n",
    "to the design matrix X.\n",
    "\n",
    "And we want to solve the following minimization problem\n",
    "$$\\min_{\\mathbf{w}} \\mathcal{L}(\\mathbf{y},\\hat{\\mathbf{y}}) = ||\\mathbf{y} - X\\mathbf{w} ||^2_2$$\n",
    "\n",
    "As a refresher, that's just the sum of the squared differences between our predictions and the ground truth answers.\n",
    "$$ \\sum_{i=1}^n (y_i - \\mathbf{w}^T \\mathbf{x}_i)^2 $$\n",
    "\n",
    "Because we know that this function is quadratic, we know that it has a single critical point where the derivative of the loss with respect to the weights $\\mathbf{w}$ is equal to $0$.\n",
    "Moreover, we know that the weights that minimize our loss constitute a critical point.\n",
    "So our solution corresponds to the one setting of the weights that gives a derivative of $0$.\n",
    "First, let's rewrite our loss function:\n",
    "$$\\mathcal{L}(\\mathbf{y}, \\mathbf{\\hat{y}}) = (\\mathbf{y}-X\\mathbf{w})^T (\\mathbf{y}-X\\mathbf{w})$$\n",
    "\n",
    "Now, setting the derivative of our loss to 0 gives the following equation:\n",
    "$$\\frac\n",
    "{\\partial \n",
    "\\mathcal{L}(\\mathbf{y}, \\mathbf{\\hat{y}})\n",
    "}\n",
    "{\\partial \\mathbf{w}} \n",
    "= -2(X)^T (\\mathbf{y}-X\\mathbf{w}) = 0$$\n",
    "\n",
    "We can now simplify these equations to find the optimal setting of the parameters $\\mathbf{w}$:\n",
    "\n",
    "$$\n",
    "\\begin{align}\n",
    "-2X^T \\mathbf{y} + 2X^T X \\mathbf{w} &= 0 \\\\\n",
    "X^T X \\mathbf{w} & = X^T \\mathbf{y}\\\\\n",
    "\\mathbf{w} & = (X^T X)^{-1} X^T \\mathbf{y}\n",
    "\\end{align}\n",
    "$$\n",
    "\n",
    "You might have noticed that we assumed that the matrix $X^T X$ can be inverted. \n",
    "If you take this fact for granted, \n",
    "then it should be clear that we can recover the exact optimal value $\\mathbf{w}^*$\n",
    "exactly. \n",
    "No matter what values the data ${X, \\mathbf{y}}$ takes\n",
    "we can produce an exact answer by computing just one matrix multiplication,\n",
    "one matrix inversion, and two matrix-vector products."
   ]
  },
  {
   "cell_type": "markdown",
   "metadata": {},
   "source": [
    "## Numerical optimization\n",
    "\n",
    "However, in practice and for the most interesting models,\n",
    "we usually can't find such analytical solutions. \n",
    "Even for logistic regression, possibly the second simplest model considered in this book,\n",
    "we don't have any exact solution.\n",
    "When we don't have an analytic solution, \n",
    "we need to resort to a numerical solution.\n",
    "A numerical solution usually involves starting with some guess of the objective-minimizing \n",
    "setting of all the parameters, and successively improving the parameters in an iterative manner. \n",
    "The most popular optimization techniques of this variety are variants of gradient descent (GD).\n",
    "In the next notebook, we'll take a [deep dive into gradient descent and stochastic gradient descent (SGD)](./gd-sgd.ipynb).\n",
    "Depending on the optimizer you use, iterative methods may take a long time to converge on a good answer.\n",
    "\n",
    "For many problems, even if they don't have an analytic solution, they may have only one minima.\n",
    "An especially convenient class of functions are the *convex* functions. \n",
    "These are functions with a uniformly positive second derivative.\n",
    "They have no local minima and are especially well-suited to efficient optimization.\n",
    "Unfortunately, this is a book about neural networks. \n",
    "And neural networks are not in general convex. \n",
    "Moreover, they have abundant local minima.\n",
    "With numerical methods, it may not be possible to find the global minimizer \n",
    "of an objective function. \n",
    "For non-convex functions, a numerical method often halts\n",
    "around local minima that are not necessarily the global minima. "
   ]
  },
  {
   "cell_type": "markdown",
   "metadata": {},
   "source": [
    "## Saddle points\n",
    "\n",
    "Saddle points are another challenge for optimizers. \n",
    "Even though these points are not local minima, \n",
    "they are points where the gradient is equal to zero. \n",
    "For high dimensional models, saddle points are typically more numerous than local minima.\n",
    "We depict a saddle point example in one-dimensional space below."
   ]
  },
  {
   "cell_type": "code",
   "execution_count": 2,
   "metadata": {},
   "outputs": [
    {
     "data": {
      "image/png": "[encoded data removed]",
      "text/plain": [
       "<matplotlib.figure.Figure at 0x1047dde10>"
      ]
     },
     "metadata": {},
     "output_type": "display_data"
    }
   ],
   "source": [
    "x = np.arange(-2.0, 2.0, 0.1)\n",
    "fig = plt.figure()\n",
    "subplt = fig.add_subplot(111)\n",
    "subplt.annotate('saddle point', xy=(0, -0.2), xytext=(-0.4, -5.0), \n",
    "            arrowprops=dict(facecolor='black', shrink=0.05))\n",
    "plt.plot(x, x**3)\n",
    "plt.show()"
   ]
  },
  {
   "cell_type": "markdown",
   "metadata": {},
   "source": [
    "Many optimization algorithms, like Newton's method, are designed to be attracted to critical points, including minima and saddle points.\n",
    "Since saddle points are generally common in high-dimensional space, \n",
    "some optimization algorithms, such as Newton's method, \n",
    "may fail to train deep learning models effectively \n",
    "as they may get stuck in saddle points.\n",
    "Another challenging scenarios for neural networks is that there may be large, \n",
    "flat regions in parameters space that correspond to bad values of the objective function."
   ]
  },
  {
   "cell_type": "markdown",
   "metadata": {},
   "source": [
    "### Challenges due to machine precision \n",
    "\n",
    "Even for convex functions, where all minima are global minima, it may still be hard to find the precise optimal solutions. For one, the accuracy of any solution can be limited by the machine precision.\n",
    "\n",
    "In computers, numbers are represented in a discrete manner. The accuracy of a floating-point system is characterized by a quantity called machine precision. For IEEE binary floating-point systems, \n",
    "\n",
    "* single precision = $2^{-24}$ (about 7 decimal digits of precision)\n",
    "* double precision = $2^{-53}$ (about 16 decimal digits of precision).\n",
    "\n",
    "In fact, the precision of a solution to optimization can be worse than the machine precision. To demonstrate that, consider a function $f: \\mathbb{R} \\rightarrow \\mathbb{R}$, its Taylor series exansion is\n",
    "\n",
    "$$f(x + \\epsilon) = f(x) + f'(x)\\epsilon + \\frac{f''(x)}{2}\\epsilon^2 + \\mathcal{O}(\\epsilon^3)$$\n",
    "\n",
    "where $\\epsilon$ is small. Denote the global optimum solution as $x^*$ for minimizing $f(x)$. It usually holds that \n",
    "\n",
    "$$f'(x^*) = 0 \\quad \\text{and} \\quad f''(x^*) \\neq 0.$$\n",
    "\n",
    "Thus, for a small value $\\epsilon$, we have\n",
    "\n",
    "$$f(x^* + \\epsilon) \\approx f(x^*) + \\mathcal{O}(\\epsilon^2),$$\n",
    "\n",
    "where the coefficient term of $\\mathcal{O}(\\epsilon^2)$ is $f''(x)/2$. \n",
    "This means that a small change of order $\\epsilon$ in the optimum solution $x^*$ \n",
    "will change the value of $f(x^*)$ in the order of $\\epsilon^2$. \n",
    "In other words, if there is an error in the function value, \n",
    "the precision of the solution value is constrained \n",
    "by the order of the square root of that error. \n",
    "For example, if the machine precision is $10^{-8}$, \n",
    "the precision of the solution value is only \n",
    "in the order of $10^{-4}$, \n",
    "which is much worse than the machine precision."
   ]
  },
  {
   "cell_type": "markdown",
   "metadata": {},
   "source": [
    "## Optimality isn't everything\n",
    "\n",
    "Although finding the precise global optimum solution to an objective function is hard, \n",
    "it is not always necessary for deep learning. \n",
    "To start with, we care about test set performance. \n",
    "So we may not even want to minimize the error on the training set to the lowest possible value.\n",
    "Moreover, finding a suboptimal minimum of a great model can still be better than finding the true global minimum of a lousy model. \n",
    "\n",
    "Many algorithms have solid theoretical guarantees of convergence to global minima, but these guarantees often only hold for functions that are convex. \n",
    "In the old days, most researchers tried to avoid non-convex optimizations due to the lack of guarantees.\n",
    "Doing gradient descent without a theoretical guarantee of convergence was  considered unprincipled.\n",
    "However, the practice is supported by a large body of empirical evidence. \n",
    "The state of the art models in computer vision, natural language processing, and speech recognition, for example,\n",
    "all rely on applying numerical optimizers to non-convex objective functions.\n",
    "Machine learners now often have to choose between those methods that are beautiful and those that work.\n",
    "In the next sections we'll try to give you some more background on the field of optimisation \n",
    "and a deeper sense of the state of the art techniques for training neural networks.\n"
   ]
  },
  {
   "cell_type": "markdown",
   "metadata": {},
   "source": [
    "## Next\n",
    "[Gradient descent and stochastic gradient descent from scratch](../chapter06_optimization/gd-sgd.ipynb)"
   ]
  },
  {
   "cell_type": "markdown",
   "metadata": {},
   "source": [
    "For whinges or inquiries, [open an issue on  GitHub.](https://github.com/zackchase/mxnet-the-straight-dope)"
   ]
  }
 ],
 "metadata": {
  "kernelspec": {
   "display_name": "Python 3",
   "language": "python",
   "name": "python3"
  },
  "language_info": {
   "codemirror_mode": {
    "name": "ipython",
    "version": 3
   },
   "file_extension": ".py",
   "mimetype": "text/x-python",
   "name": "python",
   "nbconvert_exporter": "python",
   "pygments_lexer": "ipython3",
   "version": "3.6.2"
  }
 },
 "nbformat": 4,
 "nbformat_minor": 2
}
